{
 "cells": [
  {
   "cell_type": "markdown",
   "id": "b38c2eb2-6db7-4656-a8a9-62ca10edb476",
   "metadata": {},
   "source": [
    "# Techniki Porgramowania, Projekt 3 - ACiR"
   ]
  },
  {
   "cell_type": "markdown",
   "id": "b91e73a6-74ce-4ae7-bf0b-d06ad349ccdb",
   "metadata": {},
   "source": [
    "## Arkadiusz Róg 203856\n",
    "## Julia Jachimowska 203722"
   ]
  },
  {
   "cell_type": "markdown",
   "id": "99917237-636a-4488-b3a7-8199b5ce52ca",
   "metadata": {},
   "source": [
    "Wykorzystane biblioteki:\n",
    "-pybind11\n",
    "-matplotplusplus"
   ]
  },
  {
   "cell_type": "markdown",
   "id": "9db7ae81-c4f3-4528-9c88-41e22cb8f87a",
   "metadata": {},
   "source": [
    "# 1. Wizualizacja sygnału z wykorzystaniem biblioteki matplotplusplus"
   ]
  },
  {
   "cell_type": "markdown",
   "id": "69ed4c2c-ef84-497d-b14c-40781dca8658",
   "metadata": {},
   "source": [
    "## Sinus 2Hz"
   ]
  },
  {
   "cell_type": "code",
   "execution_count": null,
   "id": "6ac90b0d-8cde-472a-9e88-7720a35e5811",
   "metadata": {},
   "outputs": [],
   "source": [
    "frequency_1d = 2.0\n",
    "duration_1d = 2.0 \n",
    "sample_rate_1d = 100"
   ]
  },
  {
   "cell_type": "code",
   "execution_count": null,
   "id": "9d65ad35-8d93-4274-8ea8-aded3851056c",
   "metadata": {},
   "outputs": [],
   "source": [
    "sine_wave = sgl.generate_sine(frequency_1d, duration_1d, sample_rate_1d)\n",
    "sgl.plot_signal_cpp(sine_wave, f\"Sygnał Sinusoidalny ({frequency_1d} Hz)\")\n",
    "wait_for_plot()\n"
   ]
  },
  {
   "attachments": {},
   "cell_type": "markdown",
   "id": "d6337c9a-e4eb-400e-a1b4-a4daa9270c2c",
   "metadata": {},
   "source": [
    "![Rys. 1.1: Sygnał Sinusoidalny](sygnal_sin.png)\n"
   ]
  },
  {
   "cell_type": "markdown",
   "id": "ace81c87-999a-4b59-9bd3-a09b32d3403d",
   "metadata": {},
   "source": [
    "## Cosinus 2Hz"
   ]
  },
  {
   "cell_type": "code",
   "execution_count": null,
   "id": "355737cc-63d1-4840-916c-f8320dffca87",
   "metadata": {},
   "outputs": [],
   "source": [
    "frequency_1d = 2.0\n",
    "duration_1d = 2.0 \n",
    "sample_rate_1d = 100"
   ]
  },
  {
   "cell_type": "code",
   "execution_count": null,
   "id": "ecc9eb87-a98b-4cf9-8b41-df5ba3399a54",
   "metadata": {},
   "outputs": [],
   "source": [
    "cosine_wave = sgl.generate_cosine(frequency_1d, duration_1d, sample_rate_1d)\n",
    "sgl.plot_signal_cpp(cosine_wave, f\"Sygnał Cosinusoidalny ({frequency_1d} Hz)\")\n",
    "wait_for_plot()"
   ]
  },
  {
   "cell_type": "markdown",
   "id": "b636d714-e1db-41c9-b220-507320aed64b",
   "metadata": {},
   "source": [
    "![Rys. 1.2: Sygnał Cosinusoidalny](sygnal_cos.png)\n"
   ]
  },
  {
   "cell_type": "markdown",
   "id": "19c28163-96be-4210-b2d4-b0f286b02edb",
   "metadata": {},
   "source": [
    "## Prostokątny 2Hz"
   ]
  },
  {
   "cell_type": "code",
   "execution_count": null,
   "id": "7b9d63d0-9f9d-4d47-b693-973f8f7ee908",
   "metadata": {},
   "outputs": [],
   "source": [
    "frequency_1d = 2.0\n",
    "duration_1d = 2.0 \n",
    "sample_rate_1d = 100"
   ]
  },
  {
   "cell_type": "code",
   "execution_count": null,
   "id": "a9a3ba35-902c-40b3-9a94-9f13c8e62318",
   "metadata": {},
   "outputs": [],
   "source": [
    "square_wave = sgl.generate_square(frequency_1d, duration_1d, sample_rate_1d)\n",
    "sgl.plot_signal_cpp(square_wave, f\"Sygnał Prostokątny ({frequency_1d} Hz)\")\n",
    "wait_for_plot()"
   ]
  },
  {
   "cell_type": "markdown",
   "id": "d930a7ff-90bc-460e-be8f-70aec9cf5985",
   "metadata": {},
   "source": [
    "![Rys. 1.3: Sygnał Prostokątny](sygnal_prostokatny.png)\n"
   ]
  },
  {
   "cell_type": "markdown",
   "id": "333ebfbe-104c-4446-83b1-740ecf0cdd15",
   "metadata": {},
   "source": [
    "## Piłokształtny 2Hz"
   ]
  },
  {
   "cell_type": "code",
   "execution_count": null,
   "id": "3f51c9ec-fb85-44ce-9487-e51a790f8eab",
   "metadata": {},
   "outputs": [],
   "source": [
    "frequency_1d = 2.0\n",
    "duration_1d = 2.0 \n",
    "sample_rate_1d = 100"
   ]
  },
  {
   "cell_type": "code",
   "execution_count": null,
   "id": "f128d5b4-5837-4548-b58b-85cc6a813380",
   "metadata": {},
   "outputs": [],
   "source": [
    "sawtooth_wave = sgl.generate_sawtooth(frequency_1d, duration_1d, sample_rate_1d)\n",
    "sgl.plot_signal_cpp(sawtooth_wave, f\"Sygnał Piłokształtny ({frequency_1d} Hz)\")\n",
    "wait_for_plot()"
   ]
  },
  {
   "cell_type": "markdown",
   "id": "24938f2b-9fc6-4ff6-ba08-5eed957dad47",
   "metadata": {},
   "source": [
    "![Rys. 1.4: Sygnał Piłokształtny](sygnal_piloksztaltny.png)\n"
   ]
  },
  {
   "cell_type": "markdown",
   "id": "b3d811d7-8ac9-4494-836e-47a261c70123",
   "metadata": {},
   "source": [
    "# 2. DFT i IDFT"
   ]
  },
  {
   "cell_type": "code",
   "execution_count": null,
   "id": "4483cb38-520b-4f0e-9a4d-9659a7d3f960",
   "metadata": {},
   "outputs": [],
   "source": [
    "frequency_1d = 2.0\n",
    "duration_1d = 2.0 \n",
    "sample_rate_1d = 100\n",
    "num_samples_1d = int(duration_1d * sample_rate_1d)\n",
    "time_vector_1d_list = np.linspace(0, duration_1d, num_samples_1d, endpoint=False).tolist() "
   ]
  },
  {
   "cell_type": "code",
   "execution_count": null,
   "id": "fcde18ab-713f-4ef8-b3ad-9fef1a2df250",
   "metadata": {},
   "outputs": [],
   "source": [
    "signal_for_dft_idft = sine_wave\n",
    "spectrum_complex = sgl.calculate_dft(signal_for_dft_idft)\n",
    "reconstructed_signal = sgl.calculate_idft(spectrum_complex)\n",
    "\n",
    "sgl.plot_idft_comparison_cpp(\n",
    "    time_vector_1d_list,\n",
    "    signal_for_dft_idft,    \n",
    "    reconstructed_signal,        \n",
    "    f\"DFT vs IDFT (sin {frequency_1d}Hz)\"\n",
    ")"
   ]
  },
  {
   "cell_type": "markdown",
   "id": "946149b2-e009-415a-8f3a-aaf75cbe2609",
   "metadata": {},
   "source": [
    "![Rys. 2.1: Porównanie DFT vs IDFT](dft.png)\n"
   ]
  },
  {
   "cell_type": "markdown",
   "id": "a8b57844-e7f7-4d5a-b1ae-cd65443afb65",
   "metadata": {},
   "source": [
    "# 3. Filtracja 1D i 2D"
   ]
  },
  {
   "cell_type": "markdown",
   "id": "d045b7f6-4a6f-4449-8138-1ef8cf378144",
   "metadata": {},
   "source": [
    "## Filtracja 1D"
   ]
  },
  {
   "cell_type": "code",
   "execution_count": null,
   "id": "6e4086f8-a180-42ad-a95e-c1a5cc9f1148",
   "metadata": {},
   "outputs": [],
   "source": [
    "noise_amplitude = 0.4\n",
    "noise = noise_amplitude * np.random.normal(0, 1, len(sine_wave))\n",
    "noisy_sine_wave_list = [s + n for s, n in zip(sine_wave, noise)] \n",
    "\n",
    "kernel_size_1d = 9\n",
    "kernel_moving_avg = [1.0/kernel_size_1d] * kernel_size_1d \n",
    "\n",
    "full_filtered_signal_1d = sgl.convolve_1d(noisy_sine_wave_list, kernel_moving_avg)\n",
    "\n",
    "offset_1d = (kernel_size_1d - 1) // 2\n",
    "filtered_signal_trimmed_1d = full_filtered_signal_1d[offset_1d : offset_1d + num_samples_1d]\n",
    "\n",
    "sgl.plot_filter_comparison_cpp(\n",
    "    time_vector_1d_list, \n",
    "    noisy_sine_wave_list,\n",
    "    filtered_signal_trimmed_1d,\n",
    "    f\"Filtracja 1D\"\n",
    ")"
   ]
  },
  {
   "cell_type": "markdown",
   "id": "258d6b48-8c0f-4ded-bf19-64866c1ba13c",
   "metadata": {},
   "source": [
    "![Rys. 3.1: Filtracja 1D](filtracja1d.png)\n"
   ]
  },
  {
   "cell_type": "markdown",
   "id": "71c88939-f30a-473d-8160-2ccf60dec2de",
   "metadata": {},
   "source": [
    "## Filtracja 2D"
   ]
  },
  {
   "cell_type": "code",
   "execution_count": null,
   "id": "51c34c2c-20b6-4eb7-9817-f8bc3ad44579",
   "metadata": {},
   "outputs": [],
   "source": [
    "size_2d = 60 \n",
    "duration_2d = 1.0 \n",
    "sample_rate_2d = int(size_2d / duration_2d)\n",
    "freq_x_2d = 2.5 \n",
    "freq_y_2d = 1.5 \n",
    "\n",
    "signal_x_comp = sgl.generate_sine(freq_x_2d, duration_2d, sample_rate_2d)\n",
    "signal_y_comp = sgl.generate_cosine(freq_y_2d, duration_2d, sample_rate_2d)\n",
    "\n",
    "signal_x_comp = (signal_x_comp + [0]*size_2d)[:size_2d]\n",
    "signal_y_comp = (signal_y_comp + [0]*size_2d)[:size_2d]\n",
    "\n",
    "sample_image_2d = [[(signal_x_comp[i] + signal_y_comp[j]) / 2.0 for j in range(size_2d)] for i in range(size_2d)]\n",
    "\n",
    "sgl.plot_image_cpp(sample_image_2d, \"Oryginalny (sin+cos)\")\n",
    "wait_for_plot()\n",
    "\n",
    "kernel_blur_size_2d = 5 \n",
    "kernel_blur_value = 1.0 / (kernel_blur_size_2d * kernel_blur_size_2d)\n",
    "blur_kernel_2d = [[kernel_blur_value for _ in range(kernel_blur_size_2d)] for _ in range(kernel_blur_size_2d)]\n",
    "\n",
    "filtered_image_blur = sgl.convolve_2d(sample_image_2d, blur_kernel_2d)\n",
    "sgl.plot_image_cpp(filtered_image_blur, f\"Filtracja 2D\")"
   ]
  },
  {
   "cell_type": "markdown",
   "id": "36c891e5-0ce0-4046-a3cd-b41122dac26d",
   "metadata": {},
   "source": [
    "![Rys. 4.1: Oryginalny Obraz 2D](przedfiltracja2d.png)\n"
   ]
  },
  {
   "cell_type": "markdown",
   "id": "20ef87e9-b520-436f-949f-5c1632494471",
   "metadata": {},
   "source": [
    "![Rys. 4.2: Obraz po Filtrze 2D](pofiltracji2d.png)\n"
   ]
  },
  {
   "cell_type": "code",
   "execution_count": null,
   "id": "438faef4-1146-4441-80de-03ec93f5d2fd",
   "metadata": {},
   "outputs": [],
   "source": []
  }
 ],
 "metadata": {
  "kernelspec": {
   "display_name": "Python 3 (ipykernel)",
   "language": "python",
   "name": "python3"
  },
  "language_info": {
   "codemirror_mode": {
    "name": "ipython",
    "version": 3
   },
   "file_extension": ".py",
   "mimetype": "text/x-python",
   "name": "python",
   "nbconvert_exporter": "python",
   "pygments_lexer": "ipython3",
   "version": "3.9.21"
  }
 },
 "nbformat": 4,
 "nbformat_minor": 5
}
